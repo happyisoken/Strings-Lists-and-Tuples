{
 "cells": [
  {
   "cell_type": "markdown",
   "id": "2d7fd627-fcf0-4489-9838-a9e99118bdc8",
   "metadata": {},
   "source": [
    "***Strings***"
   ]
  },
  {
   "cell_type": "markdown",
   "id": "e2e9ca1a-362d-46d4-be78-d6b43b2ddad3",
   "metadata": {},
   "source": [
    " - A string is a sequence of characters\n",
    " - Its uses quotes 'Hello'or \"Hello\"\n",
    " - For strings, + means concatenate\n",
    " - When a string contains numbers, it is still a string\n",
    " - We can convert numbers in a string into a number using int()"
   ]
  },
  {
   "cell_type": "code",
   "execution_count": 1,
   "id": "b1b2cdf4-4d4d-4a30-8c77-f46fa6c5c681",
   "metadata": {},
   "outputs": [
    {
     "name": "stdout",
     "output_type": "stream",
     "text": [
      "Hellothere\n"
     ]
    }
   ],
   "source": [
    "# Examples\n",
    "str1 = 'Hello'\n",
    "str2 = 'there'\n",
    "bob = str1 + str2\n",
    "print(bob)"
   ]
  },
  {
   "cell_type": "code",
   "execution_count": 2,
   "id": "606bd10e-710f-460c-8a4f-58467cce9dbc",
   "metadata": {},
   "outputs": [
    {
     "name": "stdout",
     "output_type": "stream",
     "text": [
      "124\n"
     ]
    }
   ],
   "source": [
    "str3 = '123'\n",
    "x = int(str3) + 1\n",
    "print(x)"
   ]
  },
  {
   "cell_type": "markdown",
   "id": "8b11676a-6a19-45a8-83f4-e4b4779b860b",
   "metadata": {},
   "source": [
    "Reading and converting data\n",
    "\n",
    "Raw input numbers must be converted from strings"
   ]
  },
  {
   "cell_type": "code",
   "execution_count": 3,
   "id": "67f5a116-9c8f-4c49-8693-ee21060195fe",
   "metadata": {},
   "outputs": [
    {
     "name": "stdin",
     "output_type": "stream",
     "text": [
      "Enter: Chuck\n"
     ]
    }
   ],
   "source": [
    "name = input('Enter:')"
   ]
  },
  {
   "cell_type": "code",
   "execution_count": 4,
   "id": "ebef44c8-89c2-49a6-bf84-4b2302e2db7c",
   "metadata": {},
   "outputs": [
    {
     "name": "stdout",
     "output_type": "stream",
     "text": [
      "Chuck\n"
     ]
    }
   ],
   "source": [
    "print(name)"
   ]
  },
  {
   "cell_type": "code",
   "execution_count": 5,
   "id": "9dfa2993-d732-407b-8f30-3da3512c5863",
   "metadata": {},
   "outputs": [
    {
     "name": "stdin",
     "output_type": "stream",
     "text": [
      "Enter: 100\n"
     ]
    }
   ],
   "source": [
    "apple = input('Enter:')"
   ]
  },
  {
   "cell_type": "code",
   "execution_count": 6,
   "id": "fb055d74-7d35-4f53-a6c9-fc99d4e4466e",
   "metadata": {},
   "outputs": [
    {
     "name": "stdout",
     "output_type": "stream",
     "text": [
      "90\n"
     ]
    }
   ],
   "source": [
    "x = int(apple) - 10\n",
    "print(x)"
   ]
  },
  {
   "cell_type": "markdown",
   "id": "979ed6de-4d17-4fd9-8418-e18928075030",
   "metadata": {},
   "source": [
    "Looking inside strings\n",
    "\n",
    "We can get any single character in a string using an index specified in Square brackets. \n",
    "The index value must be an integer and starts at zero. \n",
    "The Index value can be an expression that is computed. "
   ]
  },
  {
   "cell_type": "code",
   "execution_count": 8,
   "id": "7c1596e3-1fcb-4d55-94a6-fe2d4e9eed4a",
   "metadata": {},
   "outputs": [
    {
     "name": "stdout",
     "output_type": "stream",
     "text": [
      "a\n"
     ]
    }
   ],
   "source": [
    "# Examples\n",
    "fruit = 'banana'\n",
    "letter = fruit[1]\n",
    "print(letter)"
   ]
  },
  {
   "cell_type": "code",
   "execution_count": 10,
   "id": "296f3bc3-fc6d-4aed-b268-819ea28ae7ba",
   "metadata": {},
   "outputs": [
    {
     "name": "stdout",
     "output_type": "stream",
     "text": [
      "n\n"
     ]
    }
   ],
   "source": [
    "x = 3\n",
    "w = fruit[x - 1]\n",
    "print(w)"
   ]
  },
  {
   "cell_type": "code",
   "execution_count": 11,
   "id": "5bf7ae7b-d2f5-4239-bfc2-8d127b0c1003",
   "metadata": {},
   "outputs": [],
   "source": [
    "# you will get a python error if you attempt to index beyond the end of a string.\n",
    "# Ex: zot = 'abc'\n",
    "#     print(zot[5])"
   ]
  },
  {
   "cell_type": "code",
   "execution_count": 12,
   "id": "14a06cdd-94e4-4ccd-ba0b-3049facea942",
   "metadata": {},
   "outputs": [],
   "source": [
    "# Strings have length. The built-in function 'len' gives us the length of a string,\n",
    "# Len function: is some stored code that we use. A funcion takes some input and prduces an output."
   ]
  },
  {
   "cell_type": "code",
   "execution_count": 13,
   "id": "36d8561e-3fec-4732-bae7-a935ce7f8fe6",
   "metadata": {},
   "outputs": [
    {
     "name": "stdout",
     "output_type": "stream",
     "text": [
      "6\n"
     ]
    }
   ],
   "source": [
    "fruit = 'banana'\n",
    "print(len(fruit))"
   ]
  },
  {
   "cell_type": "code",
   "execution_count": 14,
   "id": "2e79eb28-443a-41b9-96d9-4bb6940475f3",
   "metadata": {},
   "outputs": [
    {
     "name": "stdout",
     "output_type": "stream",
     "text": [
      "6\n"
     ]
    }
   ],
   "source": [
    "fruit = 'banana'\n",
    "x = len(fruit)\n",
    "print(x)"
   ]
  },
  {
   "cell_type": "markdown",
   "id": "c0e35f87-1cb2-4406-be1b-06f1757fa144",
   "metadata": {},
   "source": [
    "Looping through strings\n",
    "\n",
    "Using a while statement and an iteration variable, and the len function, we can construct a loop to look at each of the letters in a string individually."
   ]
  },
  {
   "cell_type": "code",
   "execution_count": 15,
   "id": "ada6469e-fcd9-41fa-9579-f3d3c9d9fec0",
   "metadata": {},
   "outputs": [
    {
     "name": "stdout",
     "output_type": "stream",
     "text": [
      "0 b\n",
      "1 a\n",
      "2 n\n",
      "3 a\n",
      "4 n\n",
      "5 a\n"
     ]
    }
   ],
   "source": [
    "fruit = 'banana'\n",
    "index = 0\n",
    "while index <len(fruit):\n",
    "    letter = fruit[index]\n",
    "    print (index, letter)\n",
    "    index = index + 1"
   ]
  },
  {
   "cell_type": "markdown",
   "id": "c289d900-bda8-4518-96f8-213fd8e0b04a",
   "metadata": {},
   "source": [
    "A definite loop using a for statement is much more elegant.\n",
    "The iteration variable is completely taken care of by the for loop."
   ]
  },
  {
   "cell_type": "code",
   "execution_count": 16,
   "id": "d5219574-c981-443f-a64d-90cafad57594",
   "metadata": {},
   "outputs": [
    {
     "name": "stdout",
     "output_type": "stream",
     "text": [
      "b\n",
      "a\n",
      "n\n",
      "a\n",
      "n\n",
      "a\n"
     ]
    }
   ],
   "source": [
    "fruit = 'banana'\n",
    "for letter in fruit:\n",
    "    print(letter)"
   ]
  },
  {
   "cell_type": "code",
   "execution_count": 17,
   "id": "97400044-df08-46aa-a8a5-1811a89b5561",
   "metadata": {},
   "outputs": [
    {
     "name": "stdout",
     "output_type": "stream",
     "text": [
      "b\n",
      "a\n",
      "n\n",
      "a\n",
      "n\n",
      "a\n"
     ]
    }
   ],
   "source": [
    "index = 0\n",
    "while index <len(fruit):\n",
    "    letter = fruit[index]\n",
    "    print (letter)\n",
    "    index = index + 1 "
   ]
  },
  {
   "cell_type": "code",
   "execution_count": 18,
   "id": "6d0f176e-6b18-4482-94e8-b5a97d86637f",
   "metadata": {},
   "outputs": [],
   "source": [
    "# Although the above codes are equivalent, the less code, the less chances for mistakes."
   ]
  },
  {
   "cell_type": "markdown",
   "id": "57e625db-e8ba-409e-a2d1-0d9a8cfb5761",
   "metadata": {},
   "source": [
    "Looping and Counting\n",
    "\n",
    "This is a simple loop that loops through each letter in a string and counts the number of times the loop encounters the 'a'charcter."
   ]
  },
  {
   "cell_type": "code",
   "execution_count": 19,
   "id": "1e0917b4-acf7-4205-8875-de6e9ef1e39e",
   "metadata": {},
   "outputs": [
    {
     "name": "stdout",
     "output_type": "stream",
     "text": [
      "1\n",
      "2\n",
      "3\n"
     ]
    }
   ],
   "source": [
    "word = 'banana'\n",
    "count = 0\n",
    "for letter in word:\n",
    "    if letter == 'a':\n",
    "        count = count + 1\n",
    "        print(count)"
   ]
  },
  {
   "cell_type": "markdown",
   "id": "eb80a116-8cb6-4e6b-af55-16b9b610902d",
   "metadata": {},
   "source": [
    "Looking deeper into 'in'\n",
    "\n",
    "The iteration variable 'iterates'through the sequence.\n",
    "The body of code is executed for each value in the sequence.\n",
    "The iteration variable moves through all of the values in the sequence."
   ]
  },
  {
   "cell_type": "code",
   "execution_count": 20,
   "id": "b2450a48-89ef-4b93-91d5-10ae9b40dd0a",
   "metadata": {},
   "outputs": [
    {
     "name": "stdout",
     "output_type": "stream",
     "text": [
      "b\n",
      "a\n",
      "n\n",
      "a\n",
      "n\n",
      "a\n"
     ]
    }
   ],
   "source": [
    "for letter in 'banana': #each letter in banana\n",
    "    print(letter)"
   ]
  },
  {
   "cell_type": "markdown",
   "id": "00fa9a99-0fbb-419c-88f9-7c4442202788",
   "metadata": {},
   "source": [
    "**Intermediate strings**"
   ]
  },
  {
   "cell_type": "markdown",
   "id": "43578b94-a7f9-4260-a575-3d69d6f79af9",
   "metadata": {},
   "source": [
    "Slicing strings:\n",
    "\n",
    "We can look at any continuous sectio of the a string using a colon operator\n",
    "The second number is one beyond the end of the slice - up to but not including\n",
    "I the second number is beyond the end of the string, it stops at the end."
   ]
  },
  {
   "cell_type": "code",
   "execution_count": 5,
   "id": "d005a94c-18c0-4138-a59a-6fb3ce2479be",
   "metadata": {},
   "outputs": [
    {
     "name": "stdout",
     "output_type": "stream",
     "text": [
      "Mont\n"
     ]
    }
   ],
   "source": [
    "# Given a set of letter 'Monty Python' and the index per letter as 0,1,2,3,4,5,6,7,8,9,10,11\n",
    "# Note that the space in between also has an index number '5'\n",
    "s = 'Monty Python'\n",
    "print(s[0:4]) # read as s sub 0 through 4 i.e upto but not including 4"
   ]
  },
  {
   "cell_type": "code",
   "execution_count": 2,
   "id": "8fc6fe50-c282-4b98-97fb-c6bd735a2473",
   "metadata": {},
   "outputs": [
    {
     "name": "stdout",
     "output_type": "stream",
     "text": [
      "P\n"
     ]
    }
   ],
   "source": [
    "print(s[6:7]) "
   ]
  },
  {
   "cell_type": "code",
   "execution_count": 3,
   "id": "58b29fe4-19ce-4657-b949-052495de5893",
   "metadata": {},
   "outputs": [
    {
     "name": "stdout",
     "output_type": "stream",
     "text": [
      "Python\n"
     ]
    }
   ],
   "source": [
    "print(s[6:20]) # python will ignore the numbers after 11 because the letter set isnt up to 20"
   ]
  },
  {
   "cell_type": "markdown",
   "id": "0c324729-d411-4e52-9b11-aca45dba0430",
   "metadata": {},
   "source": [
    "If we leave off the first or last number of the slice, it is assumed to be the beginning or the end of the string respectively"
   ]
  },
  {
   "cell_type": "code",
   "execution_count": 6,
   "id": "cb144f22-d342-4a0d-b327-a6d2075e27f4",
   "metadata": {},
   "outputs": [
    {
     "name": "stdout",
     "output_type": "stream",
     "text": [
      "Mo\n"
     ]
    }
   ],
   "source": [
    "s = 'Monty Python'\n",
    "print(s[:2]) \n",
    "# this assumes the beggining of the string"
   ]
  },
  {
   "cell_type": "code",
   "execution_count": 7,
   "id": "2e0d3058-2446-430b-bb0a-d70b01c928f9",
   "metadata": {},
   "outputs": [
    {
     "name": "stdout",
     "output_type": "stream",
     "text": [
      "thon\n"
     ]
    }
   ],
   "source": [
    "print(s[8:]) # this assumes the end of the string"
   ]
  },
  {
   "cell_type": "code",
   "execution_count": 8,
   "id": "f253d293-a96d-4b2a-abd6-684c53df2f7a",
   "metadata": {},
   "outputs": [
    {
     "name": "stdout",
     "output_type": "stream",
     "text": [
      "Monty Python\n"
     ]
    }
   ],
   "source": [
    "print(s[:]) # here, no index is specified. Python will return the entire set of letters"
   ]
  },
  {
   "cell_type": "markdown",
   "id": "2ce43eaf-c655-4bd0-9ac0-9499d23bbb53",
   "metadata": {},
   "source": [
    "**String Concatenation**\n",
    "\n",
    "When the + operator is applied to strings, ut means 'concatenation'"
   ]
  },
  {
   "cell_type": "code",
   "execution_count": 9,
   "id": "281b7877-cc2c-48c4-8ff6-13588e0acb0c",
   "metadata": {},
   "outputs": [
    {
     "name": "stdout",
     "output_type": "stream",
     "text": [
      "HelloThere\n"
     ]
    }
   ],
   "source": [
    "a = 'Hello'\n",
    "b = a + 'There'\n",
    "print(b)"
   ]
  },
  {
   "cell_type": "code",
   "execution_count": 11,
   "id": "d649857d-2b17-41b4-a8f4-4e04eb6104d7",
   "metadata": {},
   "outputs": [
    {
     "name": "stdout",
     "output_type": "stream",
     "text": [
      "Hello There\n"
     ]
    }
   ],
   "source": [
    "c = a + ' ' + 'There'\n",
    "print(c)\n",
    "# the space has to be concatenated separately with the ' ' sign"
   ]
  },
  {
   "cell_type": "markdown",
   "id": "467281da-5350-4e61-a0f9-f39849946753",
   "metadata": {},
   "source": [
    "Using 'In' as a logical operator\n",
    "\n",
    "The 'in' keyword can also be used to check to see if one string is 'in' another string.\n",
    "The 'in'expression is a logical expression that returns True or False and can be in and if statement.\n"
   ]
  },
  {
   "cell_type": "code",
   "execution_count": 12,
   "id": "c5cf3e68-a8d7-41b8-b220-aa01232505c5",
   "metadata": {},
   "outputs": [
    {
     "data": {
      "text/plain": [
       "True"
      ]
     },
     "execution_count": 12,
     "metadata": {},
     "output_type": "execute_result"
    }
   ],
   "source": [
    "fruit = 'banana'\n",
    "'n' in fruit"
   ]
  },
  {
   "cell_type": "code",
   "execution_count": 15,
   "id": "0e94b567-1080-4feb-88ed-77dfd008dbac",
   "metadata": {},
   "outputs": [
    {
     "data": {
      "text/plain": [
       "False"
      ]
     },
     "execution_count": 15,
     "metadata": {},
     "output_type": "execute_result"
    }
   ],
   "source": [
    "'m'in fruit"
   ]
  },
  {
   "cell_type": "code",
   "execution_count": 13,
   "id": "f981273d-a143-4572-b7a0-57fc4b37596a",
   "metadata": {},
   "outputs": [
    {
     "data": {
      "text/plain": [
       "True"
      ]
     },
     "execution_count": 13,
     "metadata": {},
     "output_type": "execute_result"
    }
   ],
   "source": [
    "'nan'in fruit"
   ]
  },
  {
   "cell_type": "code",
   "execution_count": 14,
   "id": "d4a53cba-a5e9-4450-a90c-b22ebb64e1d9",
   "metadata": {},
   "outputs": [
    {
     "name": "stdout",
     "output_type": "stream",
     "text": [
      "Found it\n"
     ]
    }
   ],
   "source": [
    "if 'a'in fruit :\n",
    "    print ('Found it')"
   ]
  },
  {
   "cell_type": "markdown",
   "id": "cdda80bf-8236-438f-9ff2-bb342172f51e",
   "metadata": {},
   "source": [
    "String Comparison"
   ]
  },
  {
   "cell_type": "code",
   "execution_count": 17,
   "id": "3d564d5f-6d73-40de-9407-399430a81d60",
   "metadata": {},
   "outputs": [
    {
     "name": "stdout",
     "output_type": "stream",
     "text": [
      "banana\n"
     ]
    }
   ],
   "source": [
    "word = 'banana'\n",
    "print(word)"
   ]
  },
  {
   "cell_type": "code",
   "execution_count": 18,
   "id": "d3ec29c6-55b4-44c6-a353-1be6c268fa81",
   "metadata": {},
   "outputs": [
    {
     "name": "stdout",
     "output_type": "stream",
     "text": [
      "All right, bananas\n"
     ]
    }
   ],
   "source": [
    "if word == 'banana':\n",
    "    print('All right, bananas')"
   ]
  },
  {
   "cell_type": "code",
   "execution_count": 19,
   "id": "4ccb9bc2-f2d1-428a-bd8b-9aee1e253591",
   "metadata": {},
   "outputs": [
    {
     "name": "stdout",
     "output_type": "stream",
     "text": [
      "All right, bananas.\n"
     ]
    }
   ],
   "source": [
    "if word < 'banana':\n",
    "    print('Your word,' + word + ', comes before banana.')\n",
    "elif word > 'banana':\n",
    "    print('Your word,' + word + ', comes after banana.')\n",
    "else:\n",
    "    print('All right, bananas.')"
   ]
  },
  {
   "cell_type": "markdown",
   "id": "09f2d45b-d3d4-487e-a9ea-e44c16d196dc",
   "metadata": {},
   "source": [
    "String Library\n",
    "\n",
    "Python has a number of string functons which are in the string library.\n",
    "These functions are already built in every string - we invoke them by appending the function to the string variable.\n",
    "These functions do not modify the original string, instead they return a new string that has been altered."
   ]
  },
  {
   "cell_type": "code",
   "execution_count": 20,
   "id": "8ac4dec3-b95d-4532-b03c-4ad194a69fef",
   "metadata": {},
   "outputs": [
    {
     "name": "stdout",
     "output_type": "stream",
     "text": [
      "hello bob\n"
     ]
    }
   ],
   "source": [
    "greet = 'Hello Bob'\n",
    "zap = greet.lower() # this tells the string to make a lower version of itself\n",
    "print(zap)"
   ]
  },
  {
   "cell_type": "code",
   "execution_count": 21,
   "id": "3d2baa75-6c4d-437c-98e8-8f87c6a25bd1",
   "metadata": {},
   "outputs": [
    {
     "name": "stdout",
     "output_type": "stream",
     "text": [
      "Hello Bob\n"
     ]
    }
   ],
   "source": [
    "print(greet)"
   ]
  },
  {
   "cell_type": "code",
   "execution_count": 22,
   "id": "8048aa09-9e1e-45eb-9dca-efe6105eea76",
   "metadata": {},
   "outputs": [
    {
     "name": "stdout",
     "output_type": "stream",
     "text": [
      "hi there\n"
     ]
    }
   ],
   "source": [
    "print('Hi There'.lower())"
   ]
  },
  {
   "cell_type": "code",
   "execution_count": 23,
   "id": "e2dbd9d8-80b7-4897-bb8c-f8c4dccd970f",
   "metadata": {},
   "outputs": [
    {
     "data": {
      "text/plain": [
       "str"
      ]
     },
     "execution_count": 23,
     "metadata": {},
     "output_type": "execute_result"
    }
   ],
   "source": [
    "stuff = 'Hello world'\n",
    "type(stuff)"
   ]
  },
  {
   "cell_type": "markdown",
   "id": "88d1adf8-a2b6-4e3d-8ca4-e96f3f128345",
   "metadata": {},
   "source": [
    "String Library\n",
    "\n",
    "Str.capitalize()\n",
    "str.center()\n",
    "str.endswith()\n",
    "str.find()\n",
    "str.lstrip()\n",
    "str.replace()\n",
    "str.lower()\n",
    "str.rstrip()\n",
    "str.upper()"
   ]
  },
  {
   "cell_type": "markdown",
   "id": "315dc752-28c1-4885-96ae-deee3e70cd4d",
   "metadata": {},
   "source": [
    "**Searching a string**"
   ]
  },
  {
   "cell_type": "code",
   "execution_count": null,
   "id": "1e7b8101-e18d-49d3-b1b4-31315dcef3f2",
   "metadata": {},
   "outputs": [],
   "source": [
    "# We use the find() function to search for a substring within another string.\n",
    "# find() finds the first occurence of the substring\n",
    "# Remember that string position starts at zero "
   ]
  },
  {
   "cell_type": "code",
   "execution_count": 25,
   "id": "86e4b530-db94-4d23-8a4f-15045158aab7",
   "metadata": {},
   "outputs": [
    {
     "name": "stdout",
     "output_type": "stream",
     "text": [
      "2\n"
     ]
    }
   ],
   "source": [
    "fruit = 'banana'\n",
    "pos = fruit.find('na')\n",
    "print(pos)\n",
    "# this gives back the position of the first 'na'"
   ]
  },
  {
   "cell_type": "code",
   "execution_count": 26,
   "id": "2bf888fa-31ef-4d21-a8cb-5d8d1bd23045",
   "metadata": {},
   "outputs": [
    {
     "name": "stdout",
     "output_type": "stream",
     "text": [
      "-1\n"
     ]
    }
   ],
   "source": [
    "aa = fruit.find('z') \n",
    "print(aa)\n",
    "# if the substring is not found, find() returns -1"
   ]
  },
  {
   "cell_type": "markdown",
   "id": "64e59699-1820-4317-b62e-3cfb647878b3",
   "metadata": {},
   "source": [
    "**Making everthing UPPER CASE**"
   ]
  },
  {
   "cell_type": "markdown",
   "id": "a675d956-3dd3-40b9-a2e9-67d61d419b0e",
   "metadata": {},
   "source": [
    "You can make a copy of a string in lower or upper case.\n",
    "\n",
    "Often, when we search for a string using find(), we first convert the string to lower case so we can search a string regardless of case. "
   ]
  },
  {
   "cell_type": "code",
   "execution_count": 27,
   "id": "938e1720-c369-4e48-8a8e-f37b7ab21f54",
   "metadata": {},
   "outputs": [
    {
     "name": "stdout",
     "output_type": "stream",
     "text": [
      "HELLO BOB\n"
     ]
    }
   ],
   "source": [
    "greet = 'Hello Bob'\n",
    "nnn = greet.upper()\n",
    "print(nnn)"
   ]
  },
  {
   "cell_type": "code",
   "execution_count": 28,
   "id": "e5f0db85-10ca-42cd-8b5d-6d6da725ac6b",
   "metadata": {},
   "outputs": [
    {
     "name": "stdout",
     "output_type": "stream",
     "text": [
      "hello bob\n"
     ]
    }
   ],
   "source": [
    "www = greet.lower()\n",
    "print(www)"
   ]
  },
  {
   "cell_type": "markdown",
   "id": "e54db57f-b96b-4be0-a8bf-3a85b513ccd5",
   "metadata": {},
   "source": [
    "**Search and Replace**\n",
    "\n",
    "The replace() function is like a 'search and replace' operation in a word processor.\n",
    "\n",
    "It replaces all occurences of the search string with the replacement string."
   ]
  },
  {
   "cell_type": "code",
   "execution_count": 29,
   "id": "be1b5567-6728-4bd2-914f-0ced65cb1461",
   "metadata": {},
   "outputs": [
    {
     "name": "stdout",
     "output_type": "stream",
     "text": [
      "Hello Jane\n"
     ]
    }
   ],
   "source": [
    "greet = 'Hello Bob'\n",
    "nstr = greet.replace('Bob', 'Jane')\n",
    "print(nstr)\n",
    "# this replaces Bob with Jane"
   ]
  },
  {
   "cell_type": "code",
   "execution_count": 30,
   "id": "a328ca1e-f194-4163-8fda-3a33be2f72e0",
   "metadata": {},
   "outputs": [
    {
     "name": "stdout",
     "output_type": "stream",
     "text": [
      "Hellx Bxb\n"
     ]
    }
   ],
   "source": [
    "nstr = greet.replace('o', 'x')\n",
    "print(nstr)"
   ]
  },
  {
   "cell_type": "markdown",
   "id": "eaa8fc18-423b-473a-a929-c00c0db8b352",
   "metadata": {},
   "source": [
    "**Stripping Whitespace**"
   ]
  },
  {
   "cell_type": "markdown",
   "id": "2461c2a0-d811-4e1f-8770-beee96b93223",
   "metadata": {},
   "source": [
    "Sometimes we want to take a string and remove whitespace ath the beginning and/or end.\n",
    "\n",
    "lstrip() and rstrip() remove whitespace at the left or right.\n",
    "\n",
    "strip() removes both beginning and ending whitespace."
   ]
  },
  {
   "cell_type": "code",
   "execution_count": 5,
   "id": "095eccc9-03f8-40ca-9a07-b8ef965347b0",
   "metadata": {},
   "outputs": [
    {
     "data": {
      "text/plain": [
       "'Hello Bob '"
      ]
     },
     "execution_count": 5,
     "metadata": {},
     "output_type": "execute_result"
    }
   ],
   "source": [
    "greet = ' Hello Bob ' # here, there are spaces before and after Hello Bob.\n",
    "greet.lstrip() # removes the space at the beggining(i.e to the left)"
   ]
  },
  {
   "cell_type": "code",
   "execution_count": 6,
   "id": "925ef05d-fa93-45ea-9218-56dc71ee2668",
   "metadata": {},
   "outputs": [
    {
     "data": {
      "text/plain": [
       "' Hello Bob'"
      ]
     },
     "execution_count": 6,
     "metadata": {},
     "output_type": "execute_result"
    }
   ],
   "source": [
    "greet.rstrip() # removes the space at the end(i.e to the right)"
   ]
  },
  {
   "cell_type": "code",
   "execution_count": 7,
   "id": "6aca2fdf-8ca2-45eb-8317-c52b127c761c",
   "metadata": {},
   "outputs": [
    {
     "data": {
      "text/plain": [
       "'Hello Bob'"
      ]
     },
     "execution_count": 7,
     "metadata": {},
     "output_type": "execute_result"
    }
   ],
   "source": [
    "greet.strip() # removes the spaces at the beginning and end."
   ]
  },
  {
   "cell_type": "markdown",
   "id": "a760f744-2b98-46a9-97e2-1fba5b2e25f5",
   "metadata": {},
   "source": [
    "**Prefixes**"
   ]
  },
  {
   "cell_type": "code",
   "execution_count": 8,
   "id": "7bf962d2-1c82-4e6c-821a-489b46e08886",
   "metadata": {},
   "outputs": [
    {
     "data": {
      "text/plain": [
       "True"
      ]
     },
     "execution_count": 8,
     "metadata": {},
     "output_type": "execute_result"
    }
   ],
   "source": [
    "line = 'Please have a nice day'\n",
    "line.startswith('Please')"
   ]
  },
  {
   "cell_type": "code",
   "execution_count": 9,
   "id": "c46b8779-84ff-43d6-8046-77bed6a3a35e",
   "metadata": {},
   "outputs": [
    {
     "data": {
      "text/plain": [
       "False"
      ]
     },
     "execution_count": 9,
     "metadata": {},
     "output_type": "execute_result"
    }
   ],
   "source": [
    "line.startswith('p') # lower case p"
   ]
  },
  {
   "cell_type": "markdown",
   "id": "cf94e23a-1a1d-4a25-944e-6bcb224eeee8",
   "metadata": {},
   "source": [
    "**Parsing and Extracting**"
   ]
  },
  {
   "cell_type": "code",
   "execution_count": 11,
   "id": "63570423-8028-449e-b760-08d33ec68e48",
   "metadata": {},
   "outputs": [
    {
     "name": "stdout",
     "output_type": "stream",
     "text": [
      "21\n"
     ]
    }
   ],
   "source": [
    "data = 'From stephen.marqaurd@uct.ac.za Sat Jan 5 09:14:16 2008'\n",
    "atpos = data.find('@') # find the position of the @ sign\n",
    " print(atpos)"
   ]
  },
  {
   "cell_type": "code",
   "execution_count": 12,
   "id": "3413dc84-e5ae-41e4-bca5-891cb70f29f5",
   "metadata": {},
   "outputs": [
    {
     "name": "stdout",
     "output_type": "stream",
     "text": [
      "31\n"
     ]
    }
   ],
   "source": [
    "sppos = data.find(' ', atpos) # look for the next space starting from the postion of the @ sign and after the @ sign\n",
    "print(sppos)"
   ]
  },
  {
   "cell_type": "code",
   "execution_count": 13,
   "id": "59835f1a-cd68-432c-b6d6-a644ebde18b2",
   "metadata": {},
   "outputs": [
    {
     "name": "stdout",
     "output_type": "stream",
     "text": [
      "uct.ac.za\n"
     ]
    }
   ],
   "source": [
    "host = data[atpos + 1 : sppos] # upto but not including the space\n",
    "print(host)"
   ]
  },
  {
   "cell_type": "markdown",
   "id": "fb902856-a86b-4ea3-a580-66b048a731d7",
   "metadata": {},
   "source": [
    "***Python Lists***"
   ]
  },
  {
   "cell_type": "markdown",
   "id": "eea3a344-0599-4fe6-ba5a-87317255e0a3",
   "metadata": {},
   "source": [
    "Programming\n",
    "\n",
    "Algorithms: A set of rules or steps used to solve a problem.\n",
    "\n",
    "Data Structure: A particular way of organizing data in a computer."
   ]
  },
  {
   "cell_type": "markdown",
   "id": "045ca049-8207-41ea-8be9-8fd8493686f0",
   "metadata": {},
   "source": [
    "What is not a 'Collection'\n",
    "\n",
    "Most of our variables have one value in them - when we put a new value in the variable, the old value is overwritten."
   ]
  },
  {
   "cell_type": "code",
   "execution_count": 16,
   "id": "08e2dd36-90a5-44af-9bf7-7c12cafe6c31",
   "metadata": {},
   "outputs": [
    {
     "name": "stdout",
     "output_type": "stream",
     "text": [
      "4\n"
     ]
    }
   ],
   "source": [
    "# x = variable, 2 and 4 = assignment statements\n",
    "x = 2\n",
    "x = 4\n",
    "print(x)"
   ]
  },
  {
   "cell_type": "markdown",
   "id": "5fd82d58-5084-4c07-911a-7577d72444a0",
   "metadata": {},
   "source": [
    "A list is a kind of collection.\n",
    "\n",
    "A collection allows us to put many values in a single 'Variable'.\n",
    "\n",
    "A collection is nice because we can carry all many values around in one convenient package."
   ]
  },
  {
   "cell_type": "code",
   "execution_count": null,
   "id": "f9b456b5-0376-4038-92d3-4d52bd888c7e",
   "metadata": {},
   "outputs": [],
   "source": [
    "# the square brackets[] symbolize a list.\n",
    "friends = ['Joseph', 'Glenn', 'Sally']\n",
    "carryon = ['socks', 'shirt', 'perfume']"
   ]
  },
  {
   "cell_type": "markdown",
   "id": "dd6cb211-54ec-44ec-9a0b-080dc4c5a3a0",
   "metadata": {},
   "source": [
    "*List Constants*\n",
    "\n",
    "List constants are surrounded by square brackets and the elements in the list are separated by commas.\n",
    "\n",
    "A list element can be any python object - even another list.\n",
    "\n",
    "A list can be empty"
   ]
  },
  {
   "cell_type": "code",
   "execution_count": 17,
   "id": "6251f975-77a2-457e-8bb3-b419579f160b",
   "metadata": {},
   "outputs": [
    {
     "name": "stdout",
     "output_type": "stream",
     "text": [
      "[1, 24, 76]\n"
     ]
    }
   ],
   "source": [
    "# integers do not have to be in quotes\n",
    "print([1, 24, 76])"
   ]
  },
  {
   "cell_type": "code",
   "execution_count": 18,
   "id": "0daca097-6d4f-41b0-9b79-e6ca2faf157d",
   "metadata": {},
   "outputs": [
    {
     "name": "stdout",
     "output_type": "stream",
     "text": [
      "['red', 'yellow', 'blue']\n"
     ]
    }
   ],
   "source": [
    "print(['red', 'yellow', 'blue'])"
   ]
  },
  {
   "cell_type": "code",
   "execution_count": 19,
   "id": "3eca3798-a466-40f4-abfb-a7c872496431",
   "metadata": {},
   "outputs": [
    {
     "name": "stdout",
     "output_type": "stream",
     "text": [
      "['red', 24, 98.6]\n"
     ]
    }
   ],
   "source": [
    "print(['red', 24, 98.6])"
   ]
  },
  {
   "cell_type": "code",
   "execution_count": 20,
   "id": "2e912b9b-91e4-4c22-8f16-1dc9b94460b6",
   "metadata": {},
   "outputs": [
    {
     "name": "stdout",
     "output_type": "stream",
     "text": [
      "[1, [5, 6], 7]\n"
     ]
    }
   ],
   "source": [
    "print([1, [5, 6], 7])"
   ]
  },
  {
   "cell_type": "code",
   "execution_count": 21,
   "id": "8edcaa5a-ac2f-4f2a-80af-dc990891d3f6",
   "metadata": {},
   "outputs": [
    {
     "name": "stdout",
     "output_type": "stream",
     "text": [
      "[]\n"
     ]
    }
   ],
   "source": [
    "print([])"
   ]
  },
  {
   "cell_type": "code",
   "execution_count": 22,
   "id": "0618e9a5-74e1-4242-a1f2-bd202c690f87",
   "metadata": {},
   "outputs": [
    {
     "name": "stdout",
     "output_type": "stream",
     "text": [
      "5\n",
      "4\n",
      "3\n",
      "2\n",
      "1\n",
      "Blastoff!\n"
     ]
    }
   ],
   "source": [
    "# We already use lists!\n",
    "for i in [5, 4, 3, 2, 1]:\n",
    "    print(i)\n",
    "print('Blastoff!')"
   ]
  },
  {
   "cell_type": "markdown",
   "id": "e3e58623-b00a-4cc7-933a-f9849ffddc4b",
   "metadata": {},
   "source": [
    "List and definite loops - best pals "
   ]
  },
  {
   "cell_type": "code",
   "execution_count": 23,
   "id": "d9b93eff-1212-4ce2-83f1-ef83645467bf",
   "metadata": {},
   "outputs": [
    {
     "name": "stdout",
     "output_type": "stream",
     "text": [
      "Happy New Year: Joseph\n",
      "Happy New Year: Glenn\n",
      "Happy New Year: Sally\n",
      "Done!\n"
     ]
    }
   ],
   "source": [
    "friends = ['Joseph', 'Glenn', 'Sally']\n",
    "for friend in friends: # friend is our iteration variable while friends is our list variable\n",
    "    print('Happy New Year:', friend)\n",
    "print('Done!')"
   ]
  },
  {
   "cell_type": "code",
   "execution_count": 24,
   "id": "1ab4fb32-df89-425d-8707-1dbdff56a135",
   "metadata": {},
   "outputs": [
    {
     "name": "stdout",
     "output_type": "stream",
     "text": [
      "Happy New Year: Joseph\n",
      "Happy New Year: Glenn\n",
      "Happy New Year: Sally\n",
      "Done!\n"
     ]
    }
   ],
   "source": [
    "z = ['Joseph', 'Glenn', 'Sally']\n",
    "for x in z:\n",
    "    print('Happy New Year:', x)\n",
    "print('Done!')"
   ]
  },
  {
   "cell_type": "markdown",
   "id": "3badefc7-2440-455d-aa67-33ca928827a6",
   "metadata": {},
   "source": [
    "**Looking inside Lists**\n",
    "\n",
    "Just like strings, we can get at any single element in a List using an index specified in square brackets"
   ]
  },
  {
   "cell_type": "code",
   "execution_count": 25,
   "id": "66df4c34-a582-4d9b-9e7e-c5396335b051",
   "metadata": {},
   "outputs": [
    {
     "name": "stdout",
     "output_type": "stream",
     "text": [
      "Glenn\n"
     ]
    }
   ],
   "source": [
    "friends = ['Joseph', 'Glenn', 'Sally'] # where Joseph = 0, Glenn = 1, Sally = 2\n",
    "print(friends[1])"
   ]
  },
  {
   "cell_type": "markdown",
   "id": "fcdd41af-7f1b-406a-8ec2-e755a3cdf7c7",
   "metadata": {},
   "source": [
    "**Lists are Mutable**\n",
    "\n",
    "Strings are immutable - meaning we cannot change the contents of a string. We must make a new string to make any change(s)\n",
    "\n",
    "Lists on the other hand are Mutable - meaning we can change an element of a list using the index operator."
   ]
  },
  {
   "cell_type": "code",
   "execution_count": 26,
   "id": "7f5ea182-72b6-41bf-9879-3a5455363d43",
   "metadata": {},
   "outputs": [
    {
     "ename": "TypeError",
     "evalue": "'str' object does not support item assignment",
     "output_type": "error",
     "traceback": [
      "\u001b[1;31m---------------------------------------------------------------------------\u001b[0m",
      "\u001b[1;31mTypeError\u001b[0m                                 Traceback (most recent call last)",
      "\u001b[1;32m~\\AppData\\Local\\Temp/ipykernel_18608/1585937164.py\u001b[0m in \u001b[0;36m<module>\u001b[1;34m\u001b[0m\n\u001b[0;32m      1\u001b[0m \u001b[0mfruit\u001b[0m \u001b[1;33m=\u001b[0m \u001b[1;34m'Banana'\u001b[0m\u001b[1;33m\u001b[0m\u001b[1;33m\u001b[0m\u001b[0m\n\u001b[1;32m----> 2\u001b[1;33m \u001b[0mfruit\u001b[0m\u001b[1;33m[\u001b[0m\u001b[1;36m0\u001b[0m\u001b[1;33m]\u001b[0m \u001b[1;33m=\u001b[0m \u001b[1;34m'b'\u001b[0m\u001b[1;33m\u001b[0m\u001b[1;33m\u001b[0m\u001b[0m\n\u001b[0m",
      "\u001b[1;31mTypeError\u001b[0m: 'str' object does not support item assignment"
     ]
    }
   ],
   "source": [
    "fruit = 'Banana'\n",
    "fruit[0] = 'b'\n",
    "# you will get an error beacuse strings are immutable "
   ]
  },
  {
   "cell_type": "code",
   "execution_count": 27,
   "id": "2e8970ff-6e71-4144-a1e3-a94cddccd732",
   "metadata": {},
   "outputs": [
    {
     "name": "stdout",
     "output_type": "stream",
     "text": [
      "banana\n"
     ]
    }
   ],
   "source": [
    "x = fruit.lower()\n",
    "print(x)"
   ]
  },
  {
   "cell_type": "code",
   "execution_count": 28,
   "id": "664d731b-4339-4d1a-8a6f-a36cb838d2e1",
   "metadata": {},
   "outputs": [
    {
     "name": "stdout",
     "output_type": "stream",
     "text": [
      "[2, 14, 26, 41, 63]\n"
     ]
    }
   ],
   "source": [
    "lotto = [2, 14, 26, 41, 63]\n",
    "print(lotto)"
   ]
  },
  {
   "cell_type": "code",
   "execution_count": 29,
   "id": "bb2cac4b-5158-46e7-9d7d-e9776214e827",
   "metadata": {},
   "outputs": [
    {
     "name": "stdout",
     "output_type": "stream",
     "text": [
      "[2, 14, 28, 41, 63]\n"
     ]
    }
   ],
   "source": [
    "lotto[2] = 28\n",
    "print(lotto)\n",
    "# here, we ask python to re-assign the figure in position 2 i.e 26 to 28"
   ]
  },
  {
   "cell_type": "markdown",
   "id": "b7e920f7-955e-4c5d-8299-2bebf53fea94",
   "metadata": {},
   "source": [
    "**How long is a List?**\n",
    "\n",
    "The len() function takes a list as a parameter and returns the number of elements in the list.\n",
    "\n",
    "Actually, len() tels us the number of elements of any set or sequence."
   ]
  },
  {
   "cell_type": "code",
   "execution_count": 30,
   "id": "4baad787-4e78-4041-8def-f3e4aa1e7c77",
   "metadata": {},
   "outputs": [
    {
     "name": "stdout",
     "output_type": "stream",
     "text": [
      "9\n"
     ]
    }
   ],
   "source": [
    "greet = 'Hello Bob'\n",
    "print(len(greet)) # len tells us how many items there are "
   ]
  },
  {
   "cell_type": "code",
   "execution_count": 31,
   "id": "f84d62fd-861b-4c42-9a61-be7e46ef5fec",
   "metadata": {},
   "outputs": [
    {
     "name": "stdout",
     "output_type": "stream",
     "text": [
      "4\n"
     ]
    }
   ],
   "source": [
    "x = [1, 2, 'joe', 99]\n",
    "print(len(x))"
   ]
  },
  {
   "cell_type": "markdown",
   "id": "3775e15d-b4a4-4664-962e-5b97fe94e926",
   "metadata": {},
   "source": [
    "**Using the range function**\n",
    "\n",
    "The range function returns a list of numbers that range from zero to one less than the parameter.\n",
    "\n",
    "We can construct an index loop using for and an integer iterator."
   ]
  },
  {
   "cell_type": "code",
   "execution_count": 35,
   "id": "c3d78e6b-6439-41b9-9bfd-62e083d92a20",
   "metadata": {},
   "outputs": [
    {
     "name": "stdout",
     "output_type": "stream",
     "text": [
      "range(0, 4)\n"
     ]
    }
   ],
   "source": [
    "print(range(4)) \n",
    "# this returns the numbers from 0 - upto but not including 4"
   ]
  },
  {
   "cell_type": "code",
   "execution_count": 33,
   "id": "1b934eac-a2b0-4318-a43e-e0cf10ab530f",
   "metadata": {},
   "outputs": [
    {
     "name": "stdout",
     "output_type": "stream",
     "text": [
      "3\n"
     ]
    }
   ],
   "source": [
    "friends = ['Joseph', 'Glenn', 'Sally']\n",
    "print(len(friends))\n",
    "# there are 3 friends in the list"
   ]
  },
  {
   "cell_type": "code",
   "execution_count": 34,
   "id": "848f13fe-49eb-440f-be88-760be6dacfd8",
   "metadata": {},
   "outputs": [
    {
     "name": "stdout",
     "output_type": "stream",
     "text": [
      "range(0, 3)\n"
     ]
    }
   ],
   "source": [
    "print(range(len(friends))) # range and len gives 0, 1, 2"
   ]
  },
  {
   "cell_type": "markdown",
   "id": "58aa1f43-1a75-45a1-8d28-7d7b7fff3b35",
   "metadata": {},
   "source": [
    "A tale of two loops..."
   ]
  },
  {
   "cell_type": "code",
   "execution_count": 37,
   "id": "1e93b1f6-9826-4d6a-8f31-31397e35f66a",
   "metadata": {},
   "outputs": [
    {
     "name": "stdout",
     "output_type": "stream",
     "text": [
      "Happy New Year: Joseph\n",
      "Happy New Year: Glenn\n",
      "Happy New Year: Sally\n"
     ]
    }
   ],
   "source": [
    "friends = ['Joseph', 'Glenn', 'Sally']\n",
    "for friend in friends:\n",
    "    print('Happy New Year:', friend)"
   ]
  },
  {
   "cell_type": "code",
   "execution_count": 39,
   "id": "c33ac749-bfc0-493e-8bfb-aff00ca9b318",
   "metadata": {},
   "outputs": [
    {
     "name": "stdout",
     "output_type": "stream",
     "text": [
      "3\n"
     ]
    }
   ],
   "source": [
    "friends = ['Joseph', 'Glenn', 'Sally']\n",
    "print(len(friends))"
   ]
  },
  {
   "cell_type": "code",
   "execution_count": 40,
   "id": "62bf1a69-3683-4c78-86c3-adc5c1f61bcd",
   "metadata": {},
   "outputs": [
    {
     "name": "stdout",
     "output_type": "stream",
     "text": [
      "range(0, 3)\n"
     ]
    }
   ],
   "source": [
    "print(range(len(friends))) # 0, 1, 2"
   ]
  },
  {
   "cell_type": "code",
   "execution_count": 41,
   "id": "2a17b1a8-f847-4afc-b53c-0b1c3aa1ebcf",
   "metadata": {},
   "outputs": [
    {
     "name": "stdout",
     "output_type": "stream",
     "text": [
      "Happy New Year: Joseph\n",
      "Happy New Year: Glenn\n",
      "Happy New Year: Sally\n"
     ]
    }
   ],
   "source": [
    "for i in range(len(friends)):\n",
    "    friend = friends[i]\n",
    "    print('Happy New Year:', friend)\n",
    "# the i variable went through the positions 0 thru 2"
   ]
  },
  {
   "cell_type": "code",
   "execution_count": null,
   "id": "ce3c139e-e119-4f0c-b8b0-81510c7a8a4a",
   "metadata": {},
   "outputs": [],
   "source": []
  }
 ],
 "metadata": {
  "kernelspec": {
   "display_name": "Python 3 (ipykernel)",
   "language": "python",
   "name": "python3"
  },
  "language_info": {
   "codemirror_mode": {
    "name": "ipython",
    "version": 3
   },
   "file_extension": ".py",
   "mimetype": "text/x-python",
   "name": "python",
   "nbconvert_exporter": "python",
   "pygments_lexer": "ipython3",
   "version": "3.9.7"
  }
 },
 "nbformat": 4,
 "nbformat_minor": 5
}
